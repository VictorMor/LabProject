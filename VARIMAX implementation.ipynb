{
 "cells": [
  {
   "cell_type": "code",
   "execution_count": 35,
   "metadata": {},
   "outputs": [],
   "source": [
    "from statsmodels.tsa.statespace.varmax import VARMAX\n",
    "import numpy as np\n",
    "import warnings\n",
    "warnings.filterwarnings('ignore')\n",
    "\n",
    "\n",
    "class VARIMAX(VARMAX):\n",
    "    def __init__(self, *args, **kwargs):\n",
    "        endog = args[0]\n",
    "        args = args[1:]\n",
    "        k = endog.shape[1]\n",
    "\n",
    "        if 'order' in kwargs:\n",
    "            p, d, q = kwargs.pop('order')\n",
    "            kwargs['order'] = (p, q)\n",
    "        else:\n",
    "            p, d, q = 1, 0, 0\n",
    "        # getting d-th difference if needed. Set first d rows to zeros (discussable)\n",
    "        if d > 0:\n",
    "            assert endog.shape[0] > d, 'd = {} is too big for endog with len of {}'.format(\n",
    "                d, endog.shape[0])\n",
    "            endog_diff = np.ndarray(endog.shape, dtype=float)\n",
    "            endog_diff[:d, :] = np.zeros((d, k))\n",
    "            endog_diff[d:, :] = np.diff(endog, axis=0, n=d)\n",
    "            endog = endog_diff\n",
    "            self.__endog_diffed = endog\n",
    "        super().__init__(endog, *args, **kwargs)\n",
    "\n",
    "    def get_diff_endog(self):\n",
    "        # return original endog values\n",
    "        return self.__endog_diffed"
   ]
  },
  {
   "cell_type": "code",
   "execution_count": 43,
   "metadata": {},
   "outputs": [],
   "source": [
    "def get_orig_ts(orig_ts, diffed_fcst, d):\n",
    "    # in case if start_val has shape (1, k) -> set it to (k, )\n",
    "    k = orig_ts.shape[1]\n",
    "    n = diffed_fcst.shape[0]\n",
    "    assert diffed_fcst.shape[1] == k\n",
    "    \n",
    "    if d > 0:\n",
    "        for i in range(d):\n",
    "            # iteratively diffirentiating original series to get start value;\n",
    "            # build iteratively ts^(n-1) form ts^(n) and start_val until n-1 == 0\n",
    "            start_val = np.diff(orig_ts, axis=0, n=d-i-1)[-1]\n",
    "            res = np.ndarray((n, k))\n",
    "            res[0] = start_val + diffed_fcst[0]\n",
    "            for i in range(1, n):\n",
    "                res[i] = res[i-1] + diffed_fcst[i]\n",
    "            diffed_fcst = res\n",
    "        return res\n",
    "    else:\n",
    "        return diffed_fcst"
   ]
  },
  {
   "cell_type": "code",
   "execution_count": 30,
   "metadata": {},
   "outputs": [],
   "source": [
    "data_len = 100\n",
    "data_dim = 3\n",
    "\n",
    "# generating 3 time series with linear trend and some noise\n",
    "ts = np.random.normal(size=(data_len, data_dim), scale=1) + np.transpose([0.1*np.arange(data_len),\n",
    "                                                                          0.1*np.arange(data_len) + 10,\n",
    "                                                                          0.1*np.arange(data_len) + 20])\n",
    "\n",
    "# order = (p, d, q); 'd' is for 'diff order' to remove some trends\n",
    "vmx = VARIMAX(ts, order=(2, 1, 0))"
   ]
  },
  {
   "cell_type": "code",
   "execution_count": 31,
   "metadata": {},
   "outputs": [],
   "source": [
    "# fittng time series\n",
    "model = vmx.fit()"
   ]
  },
  {
   "cell_type": "code",
   "execution_count": 32,
   "metadata": {},
   "outputs": [],
   "source": [
    "# forecasting...\n",
    "forecast_len = 10\n",
    "forecast_res = model.get_forecast(forecast_len)"
   ]
  },
  {
   "cell_type": "code",
   "execution_count": 33,
   "metadata": {},
   "outputs": [
    {
     "data": {
      "text/html": [
       "<div>\n",
       "<style scoped>\n",
       "    .dataframe tbody tr th:only-of-type {\n",
       "        vertical-align: middle;\n",
       "    }\n",
       "\n",
       "    .dataframe tbody tr th {\n",
       "        vertical-align: top;\n",
       "    }\n",
       "\n",
       "    .dataframe thead th {\n",
       "        text-align: right;\n",
       "    }\n",
       "</style>\n",
       "<table border=\"1\" class=\"dataframe\">\n",
       "  <thead>\n",
       "    <tr style=\"text-align: right;\">\n",
       "      <th></th>\n",
       "      <th>lower y1</th>\n",
       "      <th>lower y2</th>\n",
       "      <th>lower y3</th>\n",
       "      <th>upper y1</th>\n",
       "      <th>upper y2</th>\n",
       "      <th>upper y3</th>\n",
       "    </tr>\n",
       "  </thead>\n",
       "  <tbody>\n",
       "    <tr>\n",
       "      <th>0</th>\n",
       "      <td>-3.945912</td>\n",
       "      <td>-1.053132</td>\n",
       "      <td>-1.990318</td>\n",
       "      <td>0.738014</td>\n",
       "      <td>3.161297</td>\n",
       "      <td>2.403993</td>\n",
       "    </tr>\n",
       "    <tr>\n",
       "      <th>1</th>\n",
       "      <td>-2.079020</td>\n",
       "      <td>-2.481335</td>\n",
       "      <td>-2.267782</td>\n",
       "      <td>3.665577</td>\n",
       "      <td>2.989561</td>\n",
       "      <td>2.834721</td>\n",
       "    </tr>\n",
       "    <tr>\n",
       "      <th>2</th>\n",
       "      <td>-2.831006</td>\n",
       "      <td>-3.381213</td>\n",
       "      <td>-2.654501</td>\n",
       "      <td>3.075007</td>\n",
       "      <td>2.336163</td>\n",
       "      <td>2.476314</td>\n",
       "    </tr>\n",
       "    <tr>\n",
       "      <th>3</th>\n",
       "      <td>-3.162259</td>\n",
       "      <td>-2.294051</td>\n",
       "      <td>-2.363914</td>\n",
       "      <td>2.803029</td>\n",
       "      <td>3.471464</td>\n",
       "      <td>2.789657</td>\n",
       "    </tr>\n",
       "    <tr>\n",
       "      <th>4</th>\n",
       "      <td>-2.712050</td>\n",
       "      <td>-3.019455</td>\n",
       "      <td>-2.513545</td>\n",
       "      <td>3.274196</td>\n",
       "      <td>2.826356</td>\n",
       "      <td>2.662310</td>\n",
       "    </tr>\n",
       "    <tr>\n",
       "      <th>5</th>\n",
       "      <td>-2.960595</td>\n",
       "      <td>-2.888329</td>\n",
       "      <td>-2.510418</td>\n",
       "      <td>3.031484</td>\n",
       "      <td>3.000298</td>\n",
       "      <td>2.670946</td>\n",
       "    </tr>\n",
       "    <tr>\n",
       "      <th>6</th>\n",
       "      <td>-2.937970</td>\n",
       "      <td>-2.743340</td>\n",
       "      <td>-2.454244</td>\n",
       "      <td>3.057561</td>\n",
       "      <td>3.151026</td>\n",
       "      <td>2.727605</td>\n",
       "    </tr>\n",
       "    <tr>\n",
       "      <th>7</th>\n",
       "      <td>-2.866560</td>\n",
       "      <td>-2.939510</td>\n",
       "      <td>-2.512380</td>\n",
       "      <td>3.129806</td>\n",
       "      <td>2.955961</td>\n",
       "      <td>2.670002</td>\n",
       "    </tr>\n",
       "    <tr>\n",
       "      <th>8</th>\n",
       "      <td>-2.934787</td>\n",
       "      <td>-2.826979</td>\n",
       "      <td>-2.482561</td>\n",
       "      <td>3.061731</td>\n",
       "      <td>3.071188</td>\n",
       "      <td>2.700270</td>\n",
       "    </tr>\n",
       "    <tr>\n",
       "      <th>9</th>\n",
       "      <td>-2.905319</td>\n",
       "      <td>-2.848452</td>\n",
       "      <td>-2.484968</td>\n",
       "      <td>3.091446</td>\n",
       "      <td>3.050976</td>\n",
       "      <td>2.697987</td>\n",
       "    </tr>\n",
       "  </tbody>\n",
       "</table>\n",
       "</div>"
      ],
      "text/plain": [
       "   lower y1  lower y2  lower y3  upper y1  upper y2  upper y3\n",
       "0 -3.945912 -1.053132 -1.990318  0.738014  3.161297  2.403993\n",
       "1 -2.079020 -2.481335 -2.267782  3.665577  2.989561  2.834721\n",
       "2 -2.831006 -3.381213 -2.654501  3.075007  2.336163  2.476314\n",
       "3 -3.162259 -2.294051 -2.363914  2.803029  3.471464  2.789657\n",
       "4 -2.712050 -3.019455 -2.513545  3.274196  2.826356  2.662310\n",
       "5 -2.960595 -2.888329 -2.510418  3.031484  3.000298  2.670946\n",
       "6 -2.937970 -2.743340 -2.454244  3.057561  3.151026  2.727605\n",
       "7 -2.866560 -2.939510 -2.512380  3.129806  2.955961  2.670002\n",
       "8 -2.934787 -2.826979 -2.482561  3.061731  3.071188  2.700270\n",
       "9 -2.905319 -2.848452 -2.484968  3.091446  3.050976  2.697987"
      ]
     },
     "execution_count": 33,
     "metadata": {},
     "output_type": "execute_result"
    }
   ],
   "source": [
    "# confidence intervals, if needed:\n",
    "forecast_res.conf_int()"
   ]
  },
  {
   "cell_type": "code",
   "execution_count": 34,
   "metadata": {},
   "outputs": [
    {
     "data": {
      "text/plain": [
       "(50, 110)"
      ]
     },
     "execution_count": 34,
     "metadata": {},
     "output_type": "execute_result"
    },
    {
     "data": {
      "image/png": "[encoded data removed]",
      "text/plain": [
       "<matplotlib.figure.Figure at 0x10eacd668>"
      ]
     },
     "metadata": {},
     "output_type": "display_data"
    }
   ],
   "source": [
    "# restore predictions for original time series from its differences\n",
    "predicted_ts = get_orig_ts(ts, forecast_res.predicted_mean, d=1)\n",
    "\n",
    "# plotting restored forecast & original data\n",
    "import matplotlib.pyplot as plt\n",
    "plt.plot(np.arange(data_len), ts, c='black')\n",
    "plt.plot(np.arange(forecast_len) + data_len, predicted_ts, '--', c='black')\n",
    "plt.xlim(data_len - 50, data_len + forecast_len)"
   ]
  },
  {
   "cell_type": "code",
   "execution_count": 37,
   "metadata": {},
   "outputs": [],
   "source": [
    "import pandas as pd\n",
    "df = pd.read_csv('~/Downloads/3648.csv')\n",
    "def eliminate_null_days(df):\n",
    "    null_rows = [index for index, row in df.iterrows() if not row[1:].any()]\n",
    "    df.drop(null_rows, inplace=True)\n",
    "eliminate_null_days(df)"
   ]
  },
  {
   "cell_type": "code",
   "execution_count": null,
   "metadata": {},
   "outputs": [],
   "source": []
  },
  {
   "cell_type": "code",
   "execution_count": null,
   "metadata": {},
   "outputs": [],
   "source": []
  }
 ],
 "metadata": {
  "kernelspec": {
   "display_name": "Python 3",
   "language": "python",
   "name": "python3"
  },
  "language_info": {
   "codemirror_mode": {
    "name": "ipython",
    "version": 3
   },
   "file_extension": ".py",
   "mimetype": "text/x-python",
   "name": "python",
   "nbconvert_exporter": "python",
   "pygments_lexer": "ipython3",
   "version": "3.6.4"
  }
 },
 "nbformat": 4,
 "nbformat_minor": 2
}
